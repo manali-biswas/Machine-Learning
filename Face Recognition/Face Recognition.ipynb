{
 "cells": [
  {
   "cell_type": "code",
   "execution_count": 2,
   "metadata": {},
   "outputs": [],
   "source": [
    "import cv2\n",
    "import matplotlib.pyplot as plt\n",
    "\n",
    "import os\n",
    "import numpy as np"
   ]
  },
  {
   "cell_type": "code",
   "execution_count": 9,
   "metadata": {},
   "outputs": [
    {
     "name": "stdout",
     "output_type": "stream",
     "text": [
      "(20, 100, 100, 3) abhilasha.npy\n",
      "(20, 100, 100, 3) manali.npy\n",
      "(20, 100, 100, 3) shreeya.npy\n"
     ]
    }
   ],
   "source": [
    "files=os.listdir()\n",
    "d={}\n",
    "cnt=0\n",
    "\n",
    "X=[]\n",
    "Y=[]\n",
    "\n",
    "for f in files:\n",
    "    if f.endswith(\".npy\"): \n",
    "        if f.startswith(\"X\")==True&f.startswith(\"Y\")!=True:\n",
    "            data=np.load(f)\n",
    "            print(data.shape,f)\n",
    "            labels=np.ones((data.shape[0],1))*cnt\n",
    "            \n",
    "            \n",
    "            X.append(data)\n",
    "            Y.append(labels)\n",
    "            d[cnt]=f[:-4]\n",
    "            cnt+=1"
   ]
  },
  {
   "cell_type": "code",
   "execution_count": 10,
   "metadata": {},
   "outputs": [],
   "source": [
    "X=np.vstack(X)\n",
    "Y=np.vstack(Y)\n",
    "Y=Y.reshape((60,1))"
   ]
  },
  {
   "cell_type": "code",
   "execution_count": 11,
   "metadata": {},
   "outputs": [
    {
     "name": "stdout",
     "output_type": "stream",
     "text": [
      "(60, 100, 100, 3) (60, 1)\n"
     ]
    }
   ],
   "source": [
    "print(X.shape,Y.shape)"
   ]
  },
  {
   "cell_type": "code",
   "execution_count": 12,
   "metadata": {},
   "outputs": [],
   "source": [
    "def dist(v1,v2):#point can be n dimension\n",
    "    return np.sqrt(np.sum((v1-v2)**2))\n",
    "\n",
    "def knn(X,Y,query_point,k=7):\n",
    "    m=X.shape[0]\n",
    "    distances=[]\n",
    "    for i in range(m):\n",
    "        distances.append((dist(query_point,X[i]),Y[i]))\n",
    "        \n",
    "    distances=sorted(distances)[:5]\n",
    "    distances=np.array(distances)\n",
    "    labels=distances[:,1]\n",
    "    labels,freq=np.unique(labels,return_counts=True)\n",
    "    pred=labels[np.argmax(freq)]\n",
    "    \n",
    "    return int(pred)"
   ]
  },
  {
   "cell_type": "code",
   "execution_count": 13,
   "metadata": {},
   "outputs": [],
   "source": [
    "cam=cv2.VideoCapture(0)\n",
    "detector=cv2.CascadeClassifier(\"haarcascade_frontalface_alt.xml\")\n",
    "\n",
    "while True:\n",
    "    ret,frame=cam.read()\n",
    "    \n",
    "    if ret== False:\n",
    "        continue\n",
    "    \n",
    "    faces=detector.detectMultiScale(frame,1.2)\n",
    "    if(len(faces)==0):\n",
    "        continue\n",
    "        \n",
    "    for face in faces:\n",
    "      \n",
    "        x,y,w,h=face\n",
    "        cv2.rectangle(frame,(x,y),(x+w,y+h),(0,255,0),2)\n",
    "           \n",
    "        cropped_face=frame[y:y+h,x:x+w]\n",
    "        cropped_face=cv2.resize(cropped_face,(100,100))\n",
    "        pred=knn(X,Y,cropped_face,k=5)\n",
    "        pred_name=d[pred]\n",
    "        cv2.putText(frame, pred_name, (x, y-10), cv2.FONT_HERSHEY_SIMPLEX, 1.0, (255, 255, 255), lineType=cv2.LINE_AA)\n",
    "    cv2.imshow(\"frame\",frame)\n",
    "    key_pressed=cv2.waitKey(1) & 0xFF\n",
    "    if(key_pressed==ord('q')):\n",
    "        break\n",
    "    \n",
    "cam.release()\n",
    "cv2.destroyAllWindows()"
   ]
  },
  {
   "cell_type": "code",
   "execution_count": null,
   "metadata": {},
   "outputs": [],
   "source": []
  }
 ],
 "metadata": {
  "kernelspec": {
   "display_name": "Python 3",
   "language": "python",
   "name": "python3"
  },
  "language_info": {
   "codemirror_mode": {
    "name": "ipython",
    "version": 3
   },
   "file_extension": ".py",
   "mimetype": "text/x-python",
   "name": "python",
   "nbconvert_exporter": "python",
   "pygments_lexer": "ipython3",
   "version": "3.7.3"
  }
 },
 "nbformat": 4,
 "nbformat_minor": 2
}
